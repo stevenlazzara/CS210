{
 "cells": [
  {
   "cell_type": "markdown",
   "metadata": {},
   "source": [
    "# EU City Temperatures"
   ]
  },
  {
   "cell_type": "code",
   "execution_count": null,
   "metadata": {},
   "outputs": [],
   "source": [
    "import pandas as pd\n",
    "import numpy as np\n",
    "import matplotlib.pyplot as plt"
   ]
  },
  {
   "cell_type": "markdown",
   "metadata": {},
   "source": [
    "## Preprocessing/analysis"
   ]
  },
  {
   "cell_type": "markdown",
   "metadata": {},
   "source": [
    "### Load the CSV file"
   ]
  },
  {
   "cell_type": "code",
   "execution_count": null,
   "metadata": {},
   "outputs": [],
   "source": [
    "# TODO\n",
    "df = pd.read_csv(\"EuCitiesTemperatures.csv\")\n",
    "df"
   ]
  },
  {
   "cell_type": "markdown",
   "metadata": {},
   "source": [
    "### Fill in the missing latitude and longitude values"
   ]
  },
  {
   "cell_type": "code",
   "execution_count": null,
   "metadata": {},
   "outputs": [],
   "source": [
    "# TODO\n",
    "df['latitude'] = df.groupby('country')['latitude'].transform(lambda x: x.fillna(x.mean())).round(2)\n",
    "df['longitude'] = df.groupby('country')['longitude'].transform(lambda x: x.fillna(x.mean())).round(2)\n",
    "df"
   ]
  },
  {
   "cell_type": "markdown",
   "metadata": {},
   "source": [
    "### Find the subset of cities in latitudes 40 - 60 and longitudes 15 - 30"
   ]
  },
  {
   "cell_type": "code",
   "execution_count": null,
   "metadata": {},
   "outputs": [],
   "source": [
    "# TODO\n",
    "\n",
    "subset = df[(df['latitude'] >= 40) & (df['latitude'] <= 60) & (df['longitude'] >= 15) & (df['longitude'] <= 30)]\n",
    "\n",
    "subset"
   ]
  },
  {
   "cell_type": "markdown",
   "metadata": {},
   "source": [
    "### Find the countries with a maximal number of such cities"
   ]
  },
  {
   "cell_type": "code",
   "execution_count": null,
   "metadata": {},
   "outputs": [],
   "source": [
    "# TODO\n",
    "subset = df[(df['latitude'] >= 40) & (df['latitude'] <= 60) & (df['longitude'] >= 15) & (df['longitude'] <= 30)]\n",
    "\n",
    "# Countries with maximal number of cities in the subset\n",
    "max_countries = subset['country'].value_counts().loc[lambda x: x == x.max()].index.tolist()\n",
    "max_countries"
   ]
  },
  {
   "cell_type": "markdown",
   "metadata": {},
   "source": [
    "### Fill in the missing temperature values"
   ]
  },
  {
   "cell_type": "code",
   "execution_count": null,
   "metadata": {},
   "outputs": [],
   "source": [
    "# TODO\n",
    "df['temperature'] = df.groupby(['EU', 'coastline'])['temperature'].transform(lambda x: x.fillna(x.mean()))\n",
    "df.head(10)"
   ]
  },
  {
   "cell_type": "markdown",
   "metadata": {},
   "source": [
    "## Visualization"
   ]
  },
  {
   "cell_type": "markdown",
   "metadata": {},
   "source": [
    "### Bar chart of number of cities in each region"
   ]
  },
  {
   "cell_type": "code",
   "execution_count": null,
   "metadata": {},
   "outputs": [],
   "source": [
    "# TODO\n",
    "\n",
    "\n",
    "# Count the number of cities in each region\n",
    "region_counts = df.groupby(['EU', 'coastline']).size()\n",
    "\n",
    "# Create a bar chart of the region counts\n",
    "region_counts.plot(kind='bar')\n",
    "\n",
    "# Set the title and axis labels\n",
    "plt.title('Number of Cities in Each Region')\n",
    "plt.xlabel('Region')\n",
    "plt.ylabel('Number of Cities')\n",
    "\n",
    "# Set the x-axis labels\n",
    "plt.xticks(range(len(region_counts)), region_counts.index)\n",
    "\n",
    "# Show the plot\n",
    "plt.show()\n"
   ]
  },
  {
   "cell_type": "markdown",
   "metadata": {},
   "source": [
    "### Scatter plot of cities' latitude/longitude"
   ]
  },
  {
   "cell_type": "code",
   "execution_count": null,
   "metadata": {},
   "outputs": [],
   "source": [
    "# TODO\n",
    "groups = df.groupby('country')\n",
    "plt.figure(figsize=(10,5))\n",
    "for name, group in groups:\n",
    "    plt.plot(group['longitude'],group['latitude'], marker = 'o', linestyle = '', label = name)\n",
    "plt.legend(loc=\"upper center\", bbox_to_anchor=(0.5, 1.40),ncol= 10)\n",
    "plt.ylabel('Latitude')\n",
    "plt.xlabel('Longitude')\n",
    "plt.title(\"Cities' Latitude vs Longitude\")\n",
    "plt.show()"
   ]
  },
  {
   "cell_type": "markdown",
   "metadata": {},
   "source": [
    "### Histogram of country population"
   ]
  },
  {
   "cell_type": "code",
   "execution_count": null,
   "metadata": {},
   "outputs": [],
   "source": [
    "# TODO\n",
    "\n",
    "population = np.array(df['population'].unique()).astype(int)\n",
    "\n",
    "plt.figure(figsize=(8, 8))\n",
    "plt.hist(population,bins=5,edgecolor = 'black')\n",
    "plt.xticks(range(0,population.max()+1,round(population.max()/5)))\n",
    "plt.ylabel('Number of Countries', fontsize=14)\n",
    "plt.xlabel('Population Groups', fontsize=14)\n",
    "plt.title('Population values unique to each country.', fontsize=14)\n",
    "plt.show()"
   ]
  },
  {
   "cell_type": "markdown",
   "metadata": {},
   "source": [
    "### Scatter plots of city vs latitude for each region"
   ]
  },
  {
   "cell_type": "code",
   "execution_count": null,
   "metadata": {},
   "outputs": [],
   "source": [
    "# TODO\n",
    "\n",
    "EYCY = {}\n",
    "EYCN = {}\n",
    "ENCY = {}\n",
    "ENCN = {}\n",
    "c1 = []\n",
    "c2 = []\n",
    "c3 = []\n",
    "c4 = []\n",
    "for index, row in df.iterrows():\n",
    "    if row['EU'] == 'yes' and row['coastline'] == 'yes':\n",
    "        EYCY[row['city']] = row['latitude']\n",
    "        if row['temperature'] > 10:\n",
    "            c1.append('red')\n",
    "        elif row['temperature'] < 6:\n",
    "            c1.append('blue')\n",
    "        else:\n",
    "            c1.append('orange')\n",
    "    elif row['EU'] == 'yes' and row['coastline'] == 'no':\n",
    "        EYCN[row['city']] = row['latitude']\n",
    "        if row['temperature'] > 10:\n",
    "            c2.append('red')\n",
    "        elif row['temperature'] < 6:\n",
    "            c2.append('blue')\n",
    "        else:\n",
    "            c2.append('orange')\n",
    "    elif row['EU'] == 'no' and row['coastline'] == 'yes':\n",
    "        ENCY[row['city']] = row['latitude']\n",
    "        if row['temperature'] > 10:\n",
    "            c3.append('red')\n",
    "        elif row['temperature'] < 6:\n",
    "            c3.append('blue')\n",
    "        else:\n",
    "            c3.append('orange')\n",
    "    elif row['EU'] == 'no' and row['coastline'] == 'no':\n",
    "        ENCN[row['city']] = row['latitude']\n",
    "        if row['temperature'] > 10:\n",
    "            c4.append('red')\n",
    "        elif row['temperature'] < 6:\n",
    "            c4.append('blue')\n",
    "        else:\n",
    "            c4.append('orange')\n",
    "fig, ax = plt.subplots(2,2,figsize=(25,10))\n",
    "ax[0,0].scatter(np.arange(0,len(EYCY)),EYCY.values(),c = c1)\n",
    "ax[0,0].set_title('EU yes Coastline yes')\n",
    "ax[0,0].set_xlabel('City Number')\n",
    "ax[0,0].set_ylabel('Latitude')\n",
    "ax[0,1].scatter(np.arange(0,len(EYCN)),EYCN.values(),c = c2)\n",
    "ax[0,1].set_title('EU yes Coastline no')\n",
    "ax[0,1].set_xlabel('City Number')\n",
    "ax[0,1].set_ylabel('Latitude')\n",
    "ax[1,0].scatter(np.arange(0,len(ENCY)),ENCY.values(),c = c3)\n",
    "ax[1,0].set_title('EU no Coastline yes')\n",
    "ax[1,0].set_xlabel('City Number')\n",
    "ax[1,0].set_ylabel('Latitude')\n",
    "ax[1,1].scatter(np.arange(0,len(ENCN)),ENCN.values(),c = c4)\n",
    "ax[1,1].set_title('EU no Coastline no')\n",
    "ax[1,1].set_xlabel('City Number')\n",
    "ax[1,1].set_ylabel('Latitude')\n",
    "plt.sca(ax[0,0])\n",
    "plt.xticks(np.arange(0,len(EYCY)))\n",
    "plt.sca(ax[0,1])\n",
    "plt.xticks(np.arange(0,len(EYCN)))\n",
    "plt.sca(ax[1,0])\n",
    "plt.xticks(np.arange(0,len(ENCY)))\n",
    "plt.sca(ax[1,1])\n",
    "plt.xticks(np.arange(0,len(ENCN)))\n",
    "plt.show()\n"
   ]
  }
 ],
 "metadata": {
  "kernelspec": {
   "display_name": "Python 3 (ipykernel)",
   "language": "python",
   "name": "python3"
  },
  "language_info": {
   "codemirror_mode": {
    "name": "ipython",
    "version": 3
   },
   "file_extension": ".py",
   "mimetype": "text/x-python",
   "name": "python",
   "nbconvert_exporter": "python",
   "pygments_lexer": "ipython3",
   "version": "3.9.13"
  }
 },
 "nbformat": 4,
 "nbformat_minor": 4
}
